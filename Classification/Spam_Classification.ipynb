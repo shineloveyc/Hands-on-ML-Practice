{
  "nbformat": 4,
  "nbformat_minor": 0,
  "metadata": {
    "colab": {
      "name": "Spam_Classification.ipynb",
      "provenance": [],
      "collapsed_sections": [],
      "authorship_tag": "ABX9TyOiq9TlXI4ocQ05p55GgyW9",
      "include_colab_link": true
    },
    "kernelspec": {
      "name": "python3",
      "display_name": "Python 3"
    }
  },
  "cells": [
    {
      "cell_type": "markdown",
      "metadata": {
        "id": "view-in-github",
        "colab_type": "text"
      },
      "source": [
        "<a href=\"https://colab.research.google.com/github/shineloveyc/Hands-on-ML-Practice/blob/main/Classification/Spam_Classification.ipynb\" target=\"_parent\"><img src=\"https://colab.research.google.com/assets/colab-badge.svg\" alt=\"Open In Colab\"/></a>"
      ]
    },
    {
      "cell_type": "markdown",
      "metadata": {
        "id": "xOKYyQkaXwd2"
      },
      "source": [
        "# Build a spam classifier "
      ]
    },
    {
      "cell_type": "markdown",
      "metadata": {
        "id": "u-AnzhdHaK6s"
      },
      "source": [
        "1. Data Prep"
      ]
    },
    {
      "cell_type": "code",
      "metadata": {
        "id": "CdWB0xthXKfM"
      },
      "source": [
        "#load module\n",
        "import numpy as np\n",
        "import pandas as pd\n",
        "from google.colab import drive\n",
        "import os\n",
        "from os.path import isfile, join\n",
        "from os import listdir\n",
        "import tarfile\n",
        "import urllib.request as request\n",
        "import glob"
      ],
      "execution_count": 90,
      "outputs": []
    },
    {
      "cell_type": "code",
      "metadata": {
        "colab": {
          "base_uri": "https://localhost:8080/",
          "height": 52
        },
        "id": "7xfoJ8nVYa-S",
        "outputId": "d8b11afa-cdd2-4b7e-ba86-e15f375f935e"
      },
      "source": [
        "drive.mount('/content/gdrive', force_remount=True)\n",
        "root_dir = \"/content/gdrive/My Drive/\"\n",
        "base_dir = root_dir + 'Colab Notebooks/'\n",
        "os.chdir(base_dir)\n",
        "os.getcwd()"
      ],
      "execution_count": 106,
      "outputs": [
        {
          "output_type": "stream",
          "text": [
            "Mounted at /content/gdrive\n"
          ],
          "name": "stdout"
        },
        {
          "output_type": "execute_result",
          "data": {
            "application/vnd.google.colaboratory.intrinsic+json": {
              "type": "string"
            },
            "text/plain": [
              "'/content/gdrive/My Drive/Colab Notebooks'"
            ]
          },
          "metadata": {
            "tags": []
          },
          "execution_count": 106
        }
      ]
    },
    {
      "cell_type": "code",
      "metadata": {
        "id": "Sqzlu9kJZAWT"
      },
      "source": [
        "DOWNLOAD_ROOT = \"https://spamassassin.apache.org/old/publiccorpus/\"\n",
        "\n",
        "#specify the folder to save data\n",
        "SPAM_PATH = os.path.join(\"data\", \"spam\")"
      ],
      "execution_count": 92,
      "outputs": []
    },
    {
      "cell_type": "code",
      "metadata": {
        "id": "-Broc0mWYnLe"
      },
      "source": [
        "#def the function to fetch the data\n",
        "def fetch_data(spam_path = SPAM_PATH, file_name='20021010_easy_ham.tar.bz2'):\n",
        "  #make directory in the workspace\n",
        "  os.makedirs(spam_path, exist_ok = True)\n",
        "  #get web path to download the data, the file name could be change\n",
        "  tgz_path = os.path.join(spam_path, file_name)\n",
        "  #url to download the data\n",
        "  SPAM_URL = DOWNLOAD_ROOT + file_name\n",
        "  #Copy a network object denoted by a URL to a local file==>which is tgz_path\n",
        "  request.urlretrieve(SPAM_URL, tgz_path)\n",
        "  #read from and write to tar format archives.\n",
        "  spam_tgz = tarfile.open(tgz_path)\n",
        "  #extract all the files to local directory\n",
        "  spam_tgz.extractall(path = spam_path)\n",
        "  spam_tgz.close()"
      ],
      "execution_count": 93,
      "outputs": []
    },
    {
      "cell_type": "code",
      "metadata": {
        "id": "kPy_ODEQa0mJ"
      },
      "source": [
        "#fetch easy ham data\n",
        "#easy_ham_data = fetch_data()"
      ],
      "execution_count": 94,
      "outputs": []
    },
    {
      "cell_type": "code",
      "metadata": {
        "id": "vJ-71YCFbi9l"
      },
      "source": [
        "#fetch hard ham data\n",
        "#hard_ham_data = fetch_data(file_name='20021010_hard_ham.tar.bz2')"
      ],
      "execution_count": 95,
      "outputs": []
    },
    {
      "cell_type": "code",
      "metadata": {
        "id": "zB1uWP5Aeyqi"
      },
      "source": [
        "#fetch spam data\n",
        "#spam_data = fetch_data(file_name = '20021010_spam.tar.bz2')"
      ],
      "execution_count": 96,
      "outputs": []
    },
    {
      "cell_type": "markdown",
      "metadata": {
        "id": "szK2vu0VfLdJ"
      },
      "source": [
        "- spam: 500 spam messages, all received from non-spam-trap sources.\n",
        "\n",
        "- easy_ham: 2500 non-spam messages.  These are typically quite easy to\n",
        "    differentiate from spam, since they frequently do not contain any spammish\n",
        "    signatures (like HTML etc).\n",
        "\n",
        "- hard_ham: 250 non-spam messages which are closer in many respects to\n",
        "    typical spam: use of HTML, unusual HTML markup, coloured text,\n",
        "    \"spammish-sounding\" phrases etc.\n",
        "- link to dataset: https://spamassassin.apache.org/old/publiccorpus/"
      ]
    },
    {
      "cell_type": "code",
      "metadata": {
        "colab": {
          "base_uri": "https://localhost:8080/"
        },
        "id": "weYdrCohG3Tk",
        "outputId": "0a6fc36c-4a52-4fbe-b6f1-3c4d621f08f6"
      },
      "source": [
        "len(files)"
      ],
      "execution_count": 97,
      "outputs": [
        {
          "output_type": "execute_result",
          "data": {
            "text/plain": [
              "2551"
            ]
          },
          "metadata": {
            "tags": []
          },
          "execution_count": 97
        }
      ]
    },
    {
      "cell_type": "code",
      "metadata": {
        "colab": {
          "base_uri": "https://localhost:8080/",
          "height": 35
        },
        "id": "qEVQ8C_uLw9j",
        "outputId": "9080d18f-00a8-459a-d828-c8e4f1adb4d4"
      },
      "source": [
        "os.getcwd()"
      ],
      "execution_count": 107,
      "outputs": [
        {
          "output_type": "execute_result",
          "data": {
            "application/vnd.google.colaboratory.intrinsic+json": {
              "type": "string"
            },
            "text/plain": [
              "'/content/gdrive/My Drive/Colab Notebooks'"
            ]
          },
          "metadata": {
            "tags": []
          },
          "execution_count": 107
        }
      ]
    },
    {
      "cell_type": "code",
      "metadata": {
        "id": "GqCWybnwfMhZ"
      },
      "source": [
        "#def function to load the data\n",
        "def data_loader(dir_name):\n",
        "  dir_path = os.path.join(SPAM_PATH, dir_name)\n",
        "  load_dir = os.path.join(base_dir, dir_path)\n",
        "  os.chdir(load_dir)\n",
        "\n",
        "  #load the files from the directory\n",
        "  files = [f for f in listdir(load_dir)]\n",
        "  \n",
        "  #read binary files\n",
        "  text_list = []\n",
        "  for one_f in files:\n",
        "    with open(one_f, mode = 'rb') as f:\n",
        "      text = f.read()\n",
        "      text_list.append(text)\n",
        "  return text_list"
      ],
      "execution_count": 119,
      "outputs": []
    },
    {
      "cell_type": "code",
      "metadata": {
        "id": "igtw1cYwJoK3"
      },
      "source": [
        "def data_convert(list_name, label):\n",
        "  df_list = data_loader(list_name)\n",
        "  print(len(df_list))\n",
        "  df = pd.DataFrame(df_list, columns=['content'])\n",
        "  df['label'] = label\n",
        "\n",
        "  return df"
      ],
      "execution_count": 120,
      "outputs": []
    },
    {
      "cell_type": "code",
      "metadata": {
        "colab": {
          "base_uri": "https://localhost:8080/"
        },
        "id": "PWrsLKToIiUY",
        "outputId": "b00259ec-6538-46f7-d9d9-71537d6e6e54"
      },
      "source": [
        "#load data\n",
        "easy_ham_df = data_convert('easy_ham', 0)\n",
        "hard_ham_df = data_convert('hard_ham', 0)\n",
        "spam_df = data_convert('spam', 1)"
      ],
      "execution_count": 121,
      "outputs": [
        {
          "output_type": "stream",
          "text": [
            "/content/gdrive/My Drive/Colab Notebooks/data/spam/easy_ham\n",
            "2551\n",
            "/content/gdrive/My Drive/Colab Notebooks/data/spam/hard_ham\n",
            "250\n",
            "/content/gdrive/My Drive/Colab Notebooks/data/spam/spam\n",
            "501\n"
          ],
          "name": "stdout"
        }
      ]
    },
    {
      "cell_type": "code",
      "metadata": {
        "id": "wF9mQGodJdX4"
      },
      "source": [
        "#combine and shuffle the dataset\n",
        "comb_df = pd.concat([easy_ham_df, hard_ham_df, spam_df])"
      ],
      "execution_count": 124,
      "outputs": []
    },
    {
      "cell_type": "code",
      "metadata": {
        "colab": {
          "base_uri": "https://localhost:8080/"
        },
        "id": "MaC8GqrsTVd3",
        "outputId": "831b3d8b-3e65-42d5-98ff-521ba7f6c35d"
      },
      "source": [
        "comb_df.info()"
      ],
      "execution_count": 127,
      "outputs": [
        {
          "output_type": "stream",
          "text": [
            "<class 'pandas.core.frame.DataFrame'>\n",
            "Int64Index: 3302 entries, 0 to 500\n",
            "Data columns (total 2 columns):\n",
            " #   Column   Non-Null Count  Dtype \n",
            "---  ------   --------------  ----- \n",
            " 0   content  3302 non-null   object\n",
            " 1   label    3302 non-null   int64 \n",
            "dtypes: int64(1), object(1)\n",
            "memory usage: 157.4+ KB\n"
          ],
          "name": "stdout"
        }
      ]
    },
    {
      "cell_type": "code",
      "metadata": {
        "colab": {
          "base_uri": "https://localhost:8080/",
          "height": 282
        },
        "id": "DUGwt33kUsai",
        "outputId": "543dac53-55e9-4fd3-8e8e-3ae4f1e52b53"
      },
      "source": [
        "#check the data distribution\n",
        "comb_df['label'].hist()"
      ],
      "execution_count": 128,
      "outputs": [
        {
          "output_type": "execute_result",
          "data": {
            "text/plain": [
              "<matplotlib.axes._subplots.AxesSubplot at 0x7f29189c2518>"
            ]
          },
          "metadata": {
            "tags": []
          },
          "execution_count": 128
        },
        {
          "output_type": "display_data",
          "data": {
            "image/png": "[encoded data removed]",
            "text/plain": [
              "<Figure size 432x288 with 1 Axes>"
            ]
          },
          "metadata": {
            "tags": [],
            "needs_background": "light"
          }
        }
      ]
    },
    {
      "cell_type": "code",
      "metadata": {
        "id": "bSZZmSYCJfWi"
      },
      "source": [
        "#split the data to training and test data by using stratify sampling\n",
        "from sklearn.model_selection import train_test_split\n",
        "\n",
        "train_set, test_set = train_test_split(comb_df, random_state =42, \n",
        "                                       test_size = 0.2, stratify = comb_df['label'])"
      ],
      "execution_count": 131,
      "outputs": []
    },
    {
      "cell_type": "code",
      "metadata": {
        "colab": {
          "base_uri": "https://localhost:8080/"
        },
        "id": "cO8zx72fZLxE",
        "outputId": "1192047c-f35d-469b-d37c-28c8d162e402"
      },
      "source": [
        "#check the class propotion in each set\n",
        "train_set['label'].value_counts()/len(train_set['content'])"
      ],
      "execution_count": 134,
      "outputs": [
        {
          "output_type": "execute_result",
          "data": {
            "text/plain": [
              "0    0.848164\n",
              "1    0.151836\n",
              "Name: label, dtype: float64"
            ]
          },
          "metadata": {
            "tags": []
          },
          "execution_count": 134
        }
      ]
    },
    {
      "cell_type": "code",
      "metadata": {
        "colab": {
          "base_uri": "https://localhost:8080/"
        },
        "id": "CsHAYJw1ZRbF",
        "outputId": "7befa3d4-f9cf-4655-e857-02107bc4e7f3"
      },
      "source": [
        "test_set['label'].value_counts()/len(test_set['content'])"
      ],
      "execution_count": 135,
      "outputs": [
        {
          "output_type": "execute_result",
          "data": {
            "text/plain": [
              "0    0.848714\n",
              "1    0.151286\n",
              "Name: label, dtype: float64"
            ]
          },
          "metadata": {
            "tags": []
          },
          "execution_count": 135
        }
      ]
    },
    {
      "cell_type": "code",
      "metadata": {
        "id": "yuiQdUb_Z6lx"
      },
      "source": [
        "X_train = train_set.drop('label', axis = 1)\n",
        "y_train = train_set['label'].copy"
      ],
      "execution_count": 136,
      "outputs": []
    },
    {
      "cell_type": "markdown",
      "metadata": {
        "id": "2yBTVRk8aPKR"
      },
      "source": [
        "2. Data Clean"
      ]
    },
    {
      "cell_type": "code",
      "metadata": {
        "id": "WYWPmNxBaRSZ"
      },
      "source": [
        ""
      ],
      "execution_count": null,
      "outputs": []
    }
  ]
}