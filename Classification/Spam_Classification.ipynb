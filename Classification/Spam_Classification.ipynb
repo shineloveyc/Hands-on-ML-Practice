{
  "nbformat": 4,
  "nbformat_minor": 0,
  "metadata": {
    "colab": {
      "name": "Spam_Classification.ipynb",
      "provenance": [],
      "authorship_tag": "ABX9TyOKJDvEqFvuLmE3HgBUMYvy",
      "include_colab_link": true
    },
    "kernelspec": {
      "name": "python3",
      "display_name": "Python 3"
    }
  },
  "cells": [
    {
      "cell_type": "markdown",
      "metadata": {
        "id": "view-in-github",
        "colab_type": "text"
      },
      "source": [
        "<a href=\"https://colab.research.google.com/github/shineloveyc/Hands-on-ML-Practice/blob/main/Classification/Spam_Classification.ipynb\" target=\"_parent\"><img src=\"https://colab.research.google.com/assets/colab-badge.svg\" alt=\"Open In Colab\"/></a>"
      ]
    },
    {
      "cell_type": "markdown",
      "metadata": {
        "id": "xOKYyQkaXwd2"
      },
      "source": [
        "# Build a spam classifier "
      ]
    },
    {
      "cell_type": "code",
      "metadata": {
        "id": "CdWB0xthXKfM"
      },
      "source": [
        "#load module\n",
        "import numpy as np\n",
        "import pandas as pd\n",
        "from google.colab import drive\n",
        "import os\n",
        "import tarfile\n",
        "import urllib.request as request"
      ],
      "execution_count": 1,
      "outputs": []
    },
    {
      "cell_type": "code",
      "metadata": {
        "colab": {
          "base_uri": "https://localhost:8080/",
          "height": 52
        },
        "id": "7xfoJ8nVYa-S",
        "outputId": "7acfd682-66e9-457b-9b78-32fe3e664fb3"
      },
      "source": [
        "drive.mount('/content/gdrive', force_remount=True)\n",
        "root_dir = \"/content/gdrive/My Drive/\"\n",
        "base_dir = root_dir + 'Colab Notebooks/'\n",
        "os.chdir(base_dir)\n",
        "os.getcwd()"
      ],
      "execution_count": 2,
      "outputs": [
        {
          "output_type": "stream",
          "text": [
            "Mounted at /content/gdrive\n"
          ],
          "name": "stdout"
        },
        {
          "output_type": "execute_result",
          "data": {
            "application/vnd.google.colaboratory.intrinsic+json": {
              "type": "string"
            },
            "text/plain": [
              "'/content/gdrive/My Drive/Colab Notebooks'"
            ]
          },
          "metadata": {
            "tags": []
          },
          "execution_count": 2
        }
      ]
    },
    {
      "cell_type": "code",
      "metadata": {
        "id": "Sqzlu9kJZAWT"
      },
      "source": [
        "DOWNLOAD_ROOT = \"https://spamassassin.apache.org/old/publiccorpus/\"\n",
        "\n",
        "#specify the folder to save data\n",
        "SPAM_PATH = os.path.join(\"data\", \"spam\")"
      ],
      "execution_count": 9,
      "outputs": []
    },
    {
      "cell_type": "code",
      "metadata": {
        "id": "-Broc0mWYnLe"
      },
      "source": [
        "#def the function to fetch the data\n",
        "def fetch_data(spam_path = SPAM_PATH, file_name='20021010_easy_ham.tar.bz2'):\n",
        "  #make directory in the workspace\n",
        "  os.makedirs(spam_path, exist_ok = True)\n",
        "  #get web path to download the data, the file name could be change\n",
        "  tgz_path = os.path.join(spam_path, file_name)\n",
        "  #url to download the data\n",
        "  SPAM_URL = DOWNLOAD_ROOT + file_name\n",
        "  #Copy a network object denoted by a URL to a local file==>which is tgz_path\n",
        "  request.urlretrieve(SPAM_URL, tgz_path)\n",
        "  #read from and write to tar format archives.\n",
        "  spam_tgz = tarfile.open(tgz_path)\n",
        "  #extract all the files to local directory\n",
        "  spam_tgz.extractall(path = spam_path)\n",
        "  spam_tgz.close()"
      ],
      "execution_count": 10,
      "outputs": []
    },
    {
      "cell_type": "code",
      "metadata": {
        "id": "kPy_ODEQa0mJ"
      },
      "source": [
        "#fetch easy ham data\n",
        "easy_ham_data = fetch_data()"
      ],
      "execution_count": 11,
      "outputs": []
    },
    {
      "cell_type": "code",
      "metadata": {
        "id": "vJ-71YCFbi9l"
      },
      "source": [
        "#fetch hard ham data\n",
        "hard_ham_data = fetch_data(file_name='20021010_hard_ham.tar.bz2')"
      ],
      "execution_count": 12,
      "outputs": []
    },
    {
      "cell_type": "code",
      "metadata": {
        "id": "zB1uWP5Aeyqi"
      },
      "source": [
        "#fetch spam data\n",
        "spam_data = fetch_data(file_name = '20021010_spam.tar.bz2')"
      ],
      "execution_count": 13,
      "outputs": []
    },
    {
      "cell_type": "markdown",
      "metadata": {
        "id": "szK2vu0VfLdJ"
      },
      "source": [
        "- spam: 500 spam messages, all received from non-spam-trap sources.\n",
        "\n",
        "- easy_ham: 2500 non-spam messages.  These are typically quite easy to\n",
        "    differentiate from spam, since they frequently do not contain any spammish\n",
        "    signatures (like HTML etc).\n",
        "\n",
        "- hard_ham: 250 non-spam messages which are closer in many respects to\n",
        "    typical spam: use of HTML, unusual HTML markup, coloured text,\n",
        "    \"spammish-sounding\" phrases etc.\n",
        "- link to dataset: https://spamassassin.apache.org/old/publiccorpus/"
      ]
    },
    {
      "cell_type": "code",
      "metadata": {
        "id": "GqCWybnwfMhZ"
      },
      "source": [
        ""
      ],
      "execution_count": null,
      "outputs": []
    }
  ]
}