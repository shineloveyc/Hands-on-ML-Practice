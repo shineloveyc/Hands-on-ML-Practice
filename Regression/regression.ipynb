{
  "nbformat": 4,
  "nbformat_minor": 0,
  "metadata": {
    "colab": {
      "name": "regression.ipynb",
      "provenance": [],
      "authorship_tag": "ABX9TyOAlx6bgH2ocmqseLdfgNpi",
      "include_colab_link": true
    },
    "kernelspec": {
      "name": "python3",
      "display_name": "Python 3"
    }
  },
  "cells": [
    {
      "cell_type": "markdown",
      "metadata": {
        "id": "view-in-github",
        "colab_type": "text"
      },
      "source": [
        "<a href=\"https://colab.research.google.com/github/shineloveyc/Hands-on-ML-Practice/blob/main/Regression/regression.ipynb\" target=\"_parent\"><img src=\"https://colab.research.google.com/assets/colab-badge.svg\" alt=\"Open In Colab\"/></a>"
      ]
    },
    {
      "cell_type": "markdown",
      "metadata": {
        "id": "FZ-sNrA-69X0"
      },
      "source": [
        "* Normal Equation"
      ]
    },
    {
      "cell_type": "code",
      "metadata": {
        "id": "ZdUJtQGa4r4y"
      },
      "source": [
        "import numpy as np\n",
        "import seaborn as sns\n",
        "import matplotlib.pyplot as plt"
      ],
      "execution_count": 8,
      "outputs": []
    },
    {
      "cell_type": "code",
      "metadata": {
        "id": "R3ZQJNnY44fj"
      },
      "source": [
        "#Create an array of the given shape and populate it with random samples from a uniform distribution over [0, 1).\n",
        "X = 2 * np.random.rand(100,1)\n",
        "y = 4 + 3*X +np.random.rand(100,1)"
      ],
      "execution_count": 2,
      "outputs": []
    },
    {
      "cell_type": "code",
      "metadata": {
        "colab": {
          "base_uri": "https://localhost:8080/",
          "height": 287
        },
        "id": "GaUGj9T07IR6",
        "outputId": "aebc8b86-44c7-492b-d0f9-d68b06b5750b"
      },
      "source": [
        "plt.plot(X, y, \"b.\")\n",
        "plt.xlabel(\"$x_1$\", fontsize=18)\n",
        "plt.ylabel(\"$y$\", rotation=0, fontsize=18)\n",
        "plt.axis([0, 2, 0, 15])\n",
        "plt.show()"
      ],
      "execution_count": 11,
      "outputs": [
        {
          "output_type": "display_data",
          "data": {
            "image/png": "[encoded data removed]",
            "text/plain": [
              "<Figure size 432x288 with 1 Axes>"
            ]
          },
          "metadata": {
            "tags": [],
            "needs_background": "light"
          }
        }
      ]
    },
    {
      "cell_type": "code",
      "metadata": {
        "id": "anxhSLff5IsD"
      },
      "source": [
        "#add x0 =1 to each instance through np.c_\n",
        "X_b = np.c_[np.ones((100,1)),X]\n",
        "\n",
        "theta_best = np.linalg.inv(X_b.T.dot(X_b)).dot(X_b.T).dot(y)"
      ],
      "execution_count": 6,
      "outputs": []
    },
    {
      "cell_type": "code",
      "metadata": {
        "colab": {
          "base_uri": "https://localhost:8080/"
        },
        "id": "D1M-kuP86b0Q",
        "outputId": "afe832c9-7256-48b4-a5e8-194d4b28adf9"
      },
      "source": [
        "theta_best"
      ],
      "execution_count": 7,
      "outputs": [
        {
          "output_type": "execute_result",
          "data": {
            "text/plain": [
              "array([[4.49441917],\n",
              "       [2.99445809]])"
            ]
          },
          "metadata": {
            "tags": []
          },
          "execution_count": 7
        }
      ]
    },
    {
      "cell_type": "code",
      "metadata": {
        "id": "5731yxZP68kQ"
      },
      "source": [
        "#get new instance to make prediction\n",
        "X_new = np.array([[0],[2]])\n",
        "X_new_b = np.c_[np.ones((2,1)), X_new]"
      ],
      "execution_count": 12,
      "outputs": []
    },
    {
      "cell_type": "code",
      "metadata": {
        "colab": {
          "base_uri": "https://localhost:8080/"
        },
        "id": "GoodDC3l8eIg",
        "outputId": "ca5c8c03-9f43-4d23-d045-76c8ffb7b6d0"
      },
      "source": [
        "y_predict = X_new_b.dot(theta_best)\n",
        "y_predict"
      ],
      "execution_count": 13,
      "outputs": [
        {
          "output_type": "execute_result",
          "data": {
            "text/plain": [
              "array([[ 4.49441917],\n",
              "       [10.48333534]])"
            ]
          },
          "metadata": {
            "tags": []
          },
          "execution_count": 13
        }
      ]
    },
    {
      "cell_type": "code",
      "metadata": {
        "colab": {
          "base_uri": "https://localhost:8080/",
          "height": 265
        },
        "id": "MIPrOGSc8nut",
        "outputId": "c390694e-1685-4e99-e9e7-0c455220306b"
      },
      "source": [
        "#plot the prediction\n",
        "plt.plot(X_new, y_predict, \"r-\")\n",
        "plt.plot(X,y, \"b.\")\n",
        "plt.axis([0, 2, 0, 15])\n",
        "plt.show()"
      ],
      "execution_count": 14,
      "outputs": [
        {
          "output_type": "display_data",
          "data": {
            "image/png": "[encoded data removed]",
            "text/plain": [
              "<Figure size 432x288 with 1 Axes>"
            ]
          },
          "metadata": {
            "tags": [],
            "needs_background": "light"
          }
        }
      ]
    },
    {
      "cell_type": "markdown",
      "metadata": {
        "id": "sfl3xaFX9EA2"
      },
      "source": [
        "* Linear regression from Sklearn to do prediction"
      ]
    },
    {
      "cell_type": "code",
      "metadata": {
        "id": "gVbyjcZ789Ur"
      },
      "source": [
        "from sklearn.linear_model import LinearRegression"
      ],
      "execution_count": 16,
      "outputs": []
    },
    {
      "cell_type": "code",
      "metadata": {
        "colab": {
          "base_uri": "https://localhost:8080/"
        },
        "id": "L9FfSFsE9RCz",
        "outputId": "4f9a0a44-dfc1-4c8f-b35f-fcb34ba35484"
      },
      "source": [
        "lin_reg = LinearRegression()\n",
        "lin_reg.fit(X,y)\n",
        "lin_reg.intercept_,lin_reg.coef_"
      ],
      "execution_count": 17,
      "outputs": [
        {
          "output_type": "execute_result",
          "data": {
            "text/plain": [
              "(array([4.49441917]), array([[2.99445809]]))"
            ]
          },
          "metadata": {
            "tags": []
          },
          "execution_count": 17
        }
      ]
    },
    {
      "cell_type": "markdown",
      "metadata": {
        "id": "5EbhH2so9mfz"
      },
      "source": [
        "The result is the same as the normal question"
      ]
    },
    {
      "cell_type": "markdown",
      "metadata": {
        "id": "e0lF7BBu-B-u"
      },
      "source": [
        "* Using pseudoinverse to compute"
      ]
    },
    {
      "cell_type": "code",
      "metadata": {
        "colab": {
          "base_uri": "https://localhost:8080/"
        },
        "id": "_btwS0RP9hFY",
        "outputId": "3925b5d3-1520-4913-f62a-6676ab86e826"
      },
      "source": [
        "np.linalg.pinv(X_b).dot(y)"
      ],
      "execution_count": 18,
      "outputs": [
        {
          "output_type": "execute_result",
          "data": {
            "text/plain": [
              "array([[4.49441917],\n",
              "       [2.99445809]])"
            ]
          },
          "metadata": {
            "tags": []
          },
          "execution_count": 18
        }
      ]
    },
    {
      "cell_type": "markdown",
      "metadata": {
        "id": "fwRWPxtxLzI4"
      },
      "source": [
        " * Using gradient Descent"
      ]
    },
    {
      "cell_type": "code",
      "metadata": {
        "id": "i2SCPijK-OXa"
      },
      "source": [
        "eta = 0.1 # learning rate\n",
        "n_iterations = 1000\n",
        "m = 100 #size"
      ],
      "execution_count": 19,
      "outputs": []
    },
    {
      "cell_type": "code",
      "metadata": {
        "id": "F5T2WjblMAvS"
      },
      "source": [
        "theta = np.random.randn(2,1) #random initalize"
      ],
      "execution_count": 20,
      "outputs": []
    },
    {
      "cell_type": "code",
      "metadata": {
        "id": "boyHlOHMMKed"
      },
      "source": [
        "for i in range(n_iterations):\n",
        "  gradient = 2/m*X_b.T.dot(X_b.dot(theta)-y) # cost function\n",
        "  theta = theta - eta*gradient"
      ],
      "execution_count": 22,
      "outputs": []
    },
    {
      "cell_type": "code",
      "metadata": {
        "colab": {
          "base_uri": "https://localhost:8080/"
        },
        "id": "g0K7ZXuuMgiU",
        "outputId": "dea5ab8f-b971-42c6-9d8e-7a6dda372457"
      },
      "source": [
        "theta"
      ],
      "execution_count": 23,
      "outputs": [
        {
          "output_type": "execute_result",
          "data": {
            "text/plain": [
              "array([[4.49441917],\n",
              "       [2.99445809]])"
            ]
          },
          "metadata": {
            "tags": []
          },
          "execution_count": 23
        }
      ]
    },
    {
      "cell_type": "code",
      "metadata": {
        "id": "AyjteTCyMdcZ"
      },
      "source": [
        ""
      ],
      "execution_count": null,
      "outputs": []
    }
  ]
}