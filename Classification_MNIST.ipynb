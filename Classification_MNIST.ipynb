{
  "nbformat": 4,
  "nbformat_minor": 0,
  "metadata": {
    "colab": {
      "name": "Classification_MNIST.ipynb",
      "provenance": [],
      "authorship_tag": "ABX9TyNfSXs1l51gcozbJr/HJgWe",
      "include_colab_link": true
    },
    "kernelspec": {
      "name": "python3",
      "display_name": "Python 3"
    },
    "accelerator": "GPU"
  },
  "cells": [
    {
      "cell_type": "markdown",
      "metadata": {
        "id": "view-in-github",
        "colab_type": "text"
      },
      "source": [
        "<a href=\"https://colab.research.google.com/github/shineloveyc/hands-on-ML-Practice/blob/main/Classification_MNIST.ipynb\" target=\"_parent\"><img src=\"https://colab.research.google.com/assets/colab-badge.svg\" alt=\"Open In Colab\"/></a>"
      ]
    },
    {
      "cell_type": "code",
      "metadata": {
        "id": "5RyFVuFvI8r9"
      },
      "source": [
        "#sklearn module provides downloading of the set\n",
        "from sklearn.datasets import fetch_openml\n",
        "import numpy as np\n"
      ],
      "execution_count": null,
      "outputs": []
    },
    {
      "cell_type": "code",
      "metadata": {
        "colab": {
          "base_uri": "https://localhost:8080/"
        },
        "id": "fp_nBGIgJcCX",
        "outputId": "174aa60b-22bc-4304-ce66-913fbea2d7bd"
      },
      "source": [
        "mnist = fetch_openml('mnist_784', version=1)\n",
        "mnist.keys()"
      ],
      "execution_count": null,
      "outputs": [
        {
          "output_type": "execute_result",
          "data": {
            "text/plain": [
              "dict_keys(['data', 'target', 'frame', 'feature_names', 'target_names', 'DESCR', 'details', 'categories', 'url'])"
            ]
          },
          "metadata": {
            "tags": []
          },
          "execution_count": 2
        }
      ]
    },
    {
      "cell_type": "markdown",
      "metadata": {
        "id": "NZXE5oNLMES6"
      },
      "source": [
        "Dataset loaded in Skikit-Learn generally have a similar dictionary structure:<br>\n",
        "* A DESCR key describing the dataset\n",
        "* A data key containing an array with one row per instance and one column per feature\n",
        "* A target key containing an array with the labels"
      ]
    },
    {
      "cell_type": "code",
      "metadata": {
        "colab": {
          "base_uri": "https://localhost:8080/"
        },
        "id": "mBe1B3NQJyvM",
        "outputId": "ad317660-d99d-4b00-fbc5-d4040d19531a"
      },
      "source": [
        "#check the data\n",
        "X, y = mnist[\"data\"], mnist[\"target\"]\n",
        "X.shape"
      ],
      "execution_count": null,
      "outputs": [
        {
          "output_type": "execute_result",
          "data": {
            "text/plain": [
              "(70000, 784)"
            ]
          },
          "metadata": {
            "tags": []
          },
          "execution_count": 3
        }
      ]
    },
    {
      "cell_type": "code",
      "metadata": {
        "colab": {
          "base_uri": "https://localhost:8080/"
        },
        "id": "lQf0rQccMl6G",
        "outputId": "a19046cb-d32c-472b-adcc-1547a4bdc202"
      },
      "source": [
        "y.shape"
      ],
      "execution_count": null,
      "outputs": [
        {
          "output_type": "execute_result",
          "data": {
            "text/plain": [
              "(70000,)"
            ]
          },
          "metadata": {
            "tags": []
          },
          "execution_count": 4
        }
      ]
    },
    {
      "cell_type": "markdown",
      "metadata": {
        "id": "A1sPq5x3NsfK"
      },
      "source": [
        "There are 70,000 images, and each image has 784 features. This is because each image is 28 × 28 pixels, and each feature simply represents one pixel’s intensity, from 0 (white) to 255 (black). Let’s take a peek at one digit from the dataset. All you need to do is grab an instance’s feature vector, reshape it to a 28 × 28 array, and display it using Matplotlib’s imshow() function:"
      ]
    },
    {
      "cell_type": "code",
      "metadata": {
        "id": "1MK0yXb5MoOb"
      },
      "source": [
        "import matplotlib as mpl\n",
        "import matplotlib.pyplot as plt"
      ],
      "execution_count": null,
      "outputs": []
    },
    {
      "cell_type": "code",
      "metadata": {
        "id": "Fj7rqEc0N3T9"
      },
      "source": [
        "#choose a samples\n",
        "some_digit = X[0]\n",
        "#reshape the image to 28*28\n",
        "some_digit_image = some_digit.reshape(28, 28)"
      ],
      "execution_count": null,
      "outputs": []
    },
    {
      "cell_type": "code",
      "metadata": {
        "colab": {
          "base_uri": "https://localhost:8080/",
          "height": 248
        },
        "id": "oVuKLuTFOMK3",
        "outputId": "5f8215bd-2195-45b1-a81a-d28fe8b0b025"
      },
      "source": [
        "plt.imshow(some_digit_image, cmap ='binary')\n",
        "plt.axis(\"off\")\n",
        "plt.show()"
      ],
      "execution_count": null,
      "outputs": [
        {
          "output_type": "display_data",
          "data": {
            "image/png": "[encoded data removed]",
            "text/plain": [
              "<Figure size 432x288 with 1 Axes>"
            ]
          },
          "metadata": {
            "tags": [],
            "needs_background": "light"
          }
        }
      ]
    },
    {
      "cell_type": "code",
      "metadata": {
        "colab": {
          "base_uri": "https://localhost:8080/",
          "height": 35
        },
        "id": "5XjQ5RP8OVKX",
        "outputId": "e8fda1a4-9ade-4d13-802a-5745c3f12c42"
      },
      "source": [
        "y[0]"
      ],
      "execution_count": null,
      "outputs": [
        {
          "output_type": "execute_result",
          "data": {
            "application/vnd.google.colaboratory.intrinsic+json": {
              "type": "string"
            },
            "text/plain": [
              "'5'"
            ]
          },
          "metadata": {
            "tags": []
          },
          "execution_count": 8
        }
      ]
    },
    {
      "cell_type": "code",
      "metadata": {
        "id": "wEbHW4LrOdFU"
      },
      "source": [
        "#covert the string to number\n",
        "#8-bit unsigned integer (0 to 255)\n",
        "y = y.astype(np.uint8)"
      ],
      "execution_count": null,
      "outputs": []
    },
    {
      "cell_type": "code",
      "metadata": {
        "id": "SbbW4JPjOl6n"
      },
      "source": [
        "#split the dataset\n",
        "X_train,X_test,y_train,y_test = X[:60000], X[60000:], y[:60000],y[60000:]"
      ],
      "execution_count": null,
      "outputs": []
    },
    {
      "cell_type": "markdown",
      "metadata": {
        "id": "DQ6ZH4l5PWNR"
      },
      "source": [
        "1. Training a Binary Classifier"
      ]
    },
    {
      "cell_type": "code",
      "metadata": {
        "id": "m2yAKOVQPRr6"
      },
      "source": [
        "#true for 5, other false\n",
        "y_train_5 = (y_train==5)\n",
        "y_test_5 = (y_test==5)         "
      ],
      "execution_count": null,
      "outputs": []
    },
    {
      "cell_type": "markdown",
      "metadata": {
        "id": "-0pl7RK2-cIH"
      },
      "source": [
        "1.1 SGD Classifier"
      ]
    },
    {
      "cell_type": "code",
      "metadata": {
        "id": "DQurp-s-Ptmp"
      },
      "source": [
        "#Stochastic Gradient Descent (SGD) classifier, using Scikit-Learn’s SGDClassifier class.\n",
        "from sklearn.linear_model import SGDClassifier"
      ],
      "execution_count": null,
      "outputs": []
    },
    {
      "cell_type": "code",
      "metadata": {
        "colab": {
          "base_uri": "https://localhost:8080/"
        },
        "id": "gdkto5SgP86r",
        "outputId": "7428ef57-9444-4c77-bf81-1ce5abb380ce"
      },
      "source": [
        "sgd_clf = SGDClassifier(random_state=42)\n",
        "sgd_clf.fit(X_train, y_train_5)"
      ],
      "execution_count": null,
      "outputs": [
        {
          "output_type": "execute_result",
          "data": {
            "text/plain": [
              "SGDClassifier(alpha=0.0001, average=False, class_weight=None,\n",
              "              early_stopping=False, epsilon=0.1, eta0=0.0, fit_intercept=True,\n",
              "              l1_ratio=0.15, learning_rate='optimal', loss='hinge',\n",
              "              max_iter=1000, n_iter_no_change=5, n_jobs=None, penalty='l2',\n",
              "              power_t=0.5, random_state=42, shuffle=True, tol=0.001,\n",
              "              validation_fraction=0.1, verbose=0, warm_start=False)"
            ]
          },
          "metadata": {
            "tags": []
          },
          "execution_count": 13
        }
      ]
    },
    {
      "cell_type": "code",
      "metadata": {
        "colab": {
          "base_uri": "https://localhost:8080/"
        },
        "id": "m6QvfV5hQGeD",
        "outputId": "c5d1b92f-5e3f-4305-edcb-8e4a0e64f78d"
      },
      "source": [
        "sgd_clf.predict([some_digit])"
      ],
      "execution_count": null,
      "outputs": [
        {
          "output_type": "execute_result",
          "data": {
            "text/plain": [
              "array([ True])"
            ]
          },
          "metadata": {
            "tags": []
          },
          "execution_count": 14
        }
      ]
    },
    {
      "cell_type": "code",
      "metadata": {
        "id": "za4MSJJDQUZn"
      },
      "source": [
        "#measure performance\n",
        "from sklearn.model_selection import cross_val_score"
      ],
      "execution_count": null,
      "outputs": []
    },
    {
      "cell_type": "code",
      "metadata": {
        "colab": {
          "base_uri": "https://localhost:8080/"
        },
        "id": "XUYNIaCiQ8fq",
        "outputId": "8195b7d2-97c2-429d-f740-e80a5e98cc4a"
      },
      "source": [
        "#3 folder cv\n",
        "cross_val_score(sgd_clf,X_train, y_train_5, cv =3, scoring=\"accuracy\")"
      ],
      "execution_count": null,
      "outputs": [
        {
          "output_type": "execute_result",
          "data": {
            "text/plain": [
              "array([0.95035, 0.96035, 0.9604 ])"
            ]
          },
          "metadata": {
            "tags": []
          },
          "execution_count": 16
        }
      ]
    },
    {
      "cell_type": "code",
      "metadata": {
        "id": "QJNKHOhdRBRh"
      },
      "source": [
        "#get the prediction via cv\n",
        "from sklearn.model_selection import cross_val_predict\n",
        "y_train_pred = cross_val_predict(sgd_clf, X_train, y_train_5, cv = 3)"
      ],
      "execution_count": null,
      "outputs": []
    },
    {
      "cell_type": "code",
      "metadata": {
        "id": "YDb0YcWaSf_r"
      },
      "source": [
        "from sklearn.metrics import confusion_matrix"
      ],
      "execution_count": null,
      "outputs": []
    },
    {
      "cell_type": "code",
      "metadata": {
        "colab": {
          "base_uri": "https://localhost:8080/"
        },
        "id": "PM0w3pLqSsCK",
        "outputId": "e55288fd-64c4-47cc-b234-1a21384ad49f"
      },
      "source": [
        "confusion_matrix(y_train_5, y_train_pred)"
      ],
      "execution_count": null,
      "outputs": [
        {
          "output_type": "execute_result",
          "data": {
            "text/plain": [
              "array([[53892,   687],\n",
              "       [ 1891,  3530]])"
            ]
          },
          "metadata": {
            "tags": []
          },
          "execution_count": 19
        }
      ]
    },
    {
      "cell_type": "code",
      "metadata": {
        "colab": {
          "base_uri": "https://localhost:8080/"
        },
        "id": "QOnqWHVWS01V",
        "outputId": "a6ad06e4-4c7b-4561-fc80-ba96d15bfa7e"
      },
      "source": [
        "from sklearn.metrics import precision_score, recall_score\n",
        "print(\"precision score: \",precision_score(y_train_5,y_train_pred))\n",
        "print('recore score: ', recall_score(y_train_5,y_train_pred))"
      ],
      "execution_count": null,
      "outputs": [
        {
          "output_type": "stream",
          "text": [
            "precision score:  0.8370879772350012\n",
            "recore score:  0.6511713705958311\n"
          ],
          "name": "stdout"
        }
      ]
    },
    {
      "cell_type": "code",
      "metadata": {
        "colab": {
          "base_uri": "https://localhost:8080/"
        },
        "id": "SSOmTdHOpk8T",
        "outputId": "9452b7d5-f07c-428f-d224-99adbe465261"
      },
      "source": [
        "#compute f score\n",
        "from sklearn.metrics import f1_score\n",
        "f1_score(y_train_5, y_train_pred)"
      ],
      "execution_count": null,
      "outputs": [
        {
          "output_type": "execute_result",
          "data": {
            "text/plain": [
              "0.7325171197343846"
            ]
          },
          "metadata": {
            "tags": []
          },
          "execution_count": 21
        }
      ]
    },
    {
      "cell_type": "markdown",
      "metadata": {
        "id": "E00d3K9p6jJ1"
      },
      "source": [
        "For each instance, it computes a score based on a decision function. If that score is greater than a threshold, it assigns the instance to the positive class; otherwise it assigns it to the negative class."
      ]
    },
    {
      "cell_type": "code",
      "metadata": {
        "id": "-TcY5W1tqd5_"
      },
      "source": [
        "#get threshold of the predictor\n",
        "y_scores = cross_val_predict(sgd_clf, X_train, y_train_5, cv=3, method = 'decision_function')"
      ],
      "execution_count": null,
      "outputs": []
    },
    {
      "cell_type": "code",
      "metadata": {
        "colab": {
          "base_uri": "https://localhost:8080/"
        },
        "id": "QL8AQppx5nwG",
        "outputId": "1b53099f-6c9d-44aa-83dd-c5a5a5c10b08"
      },
      "source": [
        "y_scores.shape"
      ],
      "execution_count": null,
      "outputs": [
        {
          "output_type": "execute_result",
          "data": {
            "text/plain": [
              "(60000,)"
            ]
          },
          "metadata": {
            "tags": []
          },
          "execution_count": 23
        }
      ]
    },
    {
      "cell_type": "code",
      "metadata": {
        "id": "dsRmgLV4tmJq"
      },
      "source": [
        "#compute the precison and recall for all the threshold\n",
        "from sklearn.metrics import precision_recall_curve\n",
        "\n",
        "precisions, recalls, thresholds = precision_recall_curve(y_train_5, y_scores)"
      ],
      "execution_count": null,
      "outputs": []
    },
    {
      "cell_type": "code",
      "metadata": {
        "colab": {
          "base_uri": "https://localhost:8080/",
          "height": 288
        },
        "id": "sEfyMCOnuBog",
        "outputId": "801d0cc4-0753-4129-862d-3a762374a535"
      },
      "source": [
        "#plot the precision and recall curve\n",
        "def plot_precision_recall_vs_threshold(precisons, recalls, thresholds):\n",
        "  plt.plot(thresholds, precisions[:-1], \"b--\", label = \"Precison\")\n",
        "  plt.plot(thresholds, recalls[:-1],\"g--\", label = 'Recall')\n",
        "  plt.legend(loc=\"center right\", fontsize=16) # Not shown in the book\n",
        "  plt.xlabel(\"Threshold\", fontsize=16)        # Not shown\n",
        "  plt.grid(True)                              # Not shown\n",
        "  plt.axis([-50000, 50000, 0, 1])             # Not shown\n",
        "\n",
        "\n",
        "#search for the lowest threshold which gives at least 90% of the precison(np.argmax==>return the index)\n",
        "recall_90_precision = recalls[np.argmax(precisions >= 0.90)]\n",
        "threshold_90_precision = thresholds[np.argmax(precisions >= 0.90)]\n",
        "\n",
        "plt.figure(figsize=(8, 4))                                                                  # Not shown\n",
        "plot_precision_recall_vs_threshold(precisions, recalls, thresholds)\n",
        "plt.plot([threshold_90_precision, threshold_90_precision], [0., 0.9], \"r:\")                 # Not shown\n",
        "plt.plot([-50000, threshold_90_precision], [0.9, 0.9], \"r:\")                                # Not shown\n",
        "plt.plot([-50000, threshold_90_precision], [recall_90_precision, recall_90_precision], \"r:\")# Not shown\n",
        "plt.plot([threshold_90_precision], [0.9], \"ro\")                                             # Not shown\n",
        "plt.plot([threshold_90_precision], [recall_90_precision], \"ro\")                             # Not shown\n",
        "#save_fig(\"precision_recall_vs_threshold_plot\")                                              # Not shown\n",
        "plt.show()"
      ],
      "execution_count": null,
      "outputs": [
        {
          "output_type": "display_data",
          "data": {
            "image/png": "[encoded data removed]",
            "text/plain": [
              "<Figure size 576x288 with 1 Axes>"
            ]
          },
          "metadata": {
            "tags": [],
            "needs_background": "light"
          }
        }
      ]
    },
    {
      "cell_type": "code",
      "metadata": {
        "id": "9lclTbYM5QfR"
      },
      "source": [
        "#plot the roc curve==>compute the TPR and FPR for various thresholds\n",
        "from sklearn.metrics import roc_curve\n",
        "fpr, tpr, thresholds = roc_curve(y_train_5, y_scores)"
      ],
      "execution_count": null,
      "outputs": []
    },
    {
      "cell_type": "code",
      "metadata": {
        "colab": {
          "base_uri": "https://localhost:8080/",
          "height": 397
        },
        "id": "8SKPctoe6LcG",
        "outputId": "2948958e-8f86-4474-b7c2-f1b7afa15a4b"
      },
      "source": [
        "def plot_roc_curve(fpr, tpr, label=None):\n",
        "    plt.plot(fpr, tpr, linewidth=2, label=label)\n",
        "    plt.plot([0, 1], [0, 1], 'k--') # dashed diagonal\n",
        "    plt.axis([0, 1, 0, 1])                                    # Not shown in the book\n",
        "    plt.xlabel('False Positive Rate (Fall-Out)', fontsize=16) # Not shown\n",
        "    plt.ylabel('True Positive Rate (Recall)', fontsize=16)    # Not shown\n",
        "    plt.grid(True)                                            # Not shown\n",
        "\n",
        "plt.figure(figsize=(8, 6))                                    # Not shown\n",
        "plot_roc_curve(fpr, tpr)\n",
        "fpr_90 = fpr[np.argmax(tpr >= recall_90_precision)]           # Not shown\n",
        "plt.plot([fpr_90, fpr_90], [0., recall_90_precision], \"r:\")   # Not shown\n",
        "plt.plot([0.0, fpr_90], [recall_90_precision, recall_90_precision], \"r:\")  # Not shown\n",
        "plt.plot([fpr_90], [recall_90_precision], \"ro\")               # Not shown\n",
        "#save_fig(\"roc_curve_plot\")                                    # Not shown\n",
        "plt.show()"
      ],
      "execution_count": null,
      "outputs": [
        {
          "output_type": "display_data",
          "data": {
            "image/png": "[encoded data removed]",
            "text/plain": [
              "<Figure size 576x432 with 1 Axes>"
            ]
          },
          "metadata": {
            "tags": [],
            "needs_background": "light"
          }
        }
      ]
    },
    {
      "cell_type": "code",
      "metadata": {
        "colab": {
          "base_uri": "https://localhost:8080/"
        },
        "id": "FS8F0Apa8vtW",
        "outputId": "ac41cbbb-e5ad-4a17-fb4a-d260df70d103"
      },
      "source": [
        "#compute the auc\n",
        "from sklearn.metrics import roc_auc_score\n",
        "roc_auc_score(y_train_5, y_scores)"
      ],
      "execution_count": null,
      "outputs": [
        {
          "output_type": "execute_result",
          "data": {
            "text/plain": [
              "0.9604938554008616"
            ]
          },
          "metadata": {
            "tags": []
          },
          "execution_count": 28
        }
      ]
    },
    {
      "cell_type": "markdown",
      "metadata": {
        "id": "aF4HNj-U-U4S"
      },
      "source": [
        "1.2 Random Forest Classifier"
      ]
    },
    {
      "cell_type": "code",
      "metadata": {
        "id": "u460v0we-Z6S"
      },
      "source": [
        "from sklearn.ensemble import RandomForestClassifier"
      ],
      "execution_count": null,
      "outputs": []
    },
    {
      "cell_type": "code",
      "metadata": {
        "id": "ZehKZ5C6-l2V"
      },
      "source": [
        "forest_clf = RandomForestClassifier(random_state=42)\n",
        "y_probas_forest = cross_val_predict(forest_clf, X_train, y_train_5, cv =3, method=\"predict_proba\")"
      ],
      "execution_count": null,
      "outputs": []
    },
    {
      "cell_type": "code",
      "metadata": {
        "id": "7yQub6RL-6N1"
      },
      "source": [
        "#get the proba of the predication\n",
        "y_scores_forest = y_probas_forest[:,1]\n",
        "#fit labels and class probabilities to the roc curve\n",
        "fpr_forest, tpr_forest, thresholds_forest = roc_curve(y_train_5,y_scores_forest)"
      ],
      "execution_count": null,
      "outputs": []
    },
    {
      "cell_type": "code",
      "metadata": {
        "colab": {
          "base_uri": "https://localhost:8080/",
          "height": 288
        },
        "id": "l7dIDMSw_1A6",
        "outputId": "5a39194f-a84a-476e-c0a6-c5d92f0bf739"
      },
      "source": [
        "#compare the roc_auc between SGD and RandomForest classifier\n",
        "plt.plot(fpr, tpr, \"b:\", label=\"SGD\")\n",
        "plot_roc_curve(fpr_forest, tpr_forest, \"Random Forest\")\n",
        "plt.legend(loc=\"lower right\")\n",
        "plt.show()"
      ],
      "execution_count": null,
      "outputs": [
        {
          "output_type": "display_data",
          "data": {
            "image/png": "[encoded data removed]",
            "text/plain": [
              "<Figure size 432x288 with 1 Axes>"
            ]
          },
          "metadata": {
            "tags": [],
            "needs_background": "light"
          }
        }
      ]
    },
    {
      "cell_type": "code",
      "metadata": {
        "colab": {
          "base_uri": "https://localhost:8080/"
        },
        "id": "1cDYynJ6_8cT",
        "outputId": "bb17196d-e231-4654-b508-2fb320ecb03e"
      },
      "source": [
        "roc_auc_score(y_train_5, y_scores_forest)"
      ],
      "execution_count": null,
      "outputs": [
        {
          "output_type": "execute_result",
          "data": {
            "text/plain": [
              "0.9983436731328145"
            ]
          },
          "metadata": {
            "tags": []
          },
          "execution_count": 33
        }
      ]
    },
    {
      "cell_type": "markdown",
      "metadata": {
        "id": "xRRzceQhAvKr"
      },
      "source": [
        "2. Multiuclass Classification"
      ]
    },
    {
      "cell_type": "markdown",
      "metadata": {
        "id": "fczd0P8LG0P-"
      },
      "source": [
        "2.1 Support Vector Machine"
      ]
    },
    {
      "cell_type": "code",
      "metadata": {
        "id": "Z2kQoqU8Ag-L",
        "colab": {
          "base_uri": "https://localhost:8080/"
        },
        "outputId": "7e5efb7a-0061-4972-8bb2-41a2c06749d3"
      },
      "source": [
        "from sklearn.svm import SVC\n",
        "svc_clf = SVC()\n",
        "svc_clf.fit(X_train, y_train)"
      ],
      "execution_count": null,
      "outputs": [
        {
          "output_type": "execute_result",
          "data": {
            "text/plain": [
              "SVC(C=1.0, break_ties=False, cache_size=200, class_weight=None, coef0=0.0,\n",
              "    decision_function_shape='ovr', degree=3, gamma='scale', kernel='rbf',\n",
              "    max_iter=-1, probability=False, random_state=None, shrinking=True,\n",
              "    tol=0.001, verbose=False)"
            ]
          },
          "metadata": {
            "tags": []
          },
          "execution_count": 34
        }
      ]
    },
    {
      "cell_type": "code",
      "metadata": {
        "colab": {
          "base_uri": "https://localhost:8080/"
        },
        "id": "csO7BRfk_AAA",
        "outputId": "38465981-dd78-4917-8e5d-121f7b175fbf"
      },
      "source": [
        "#make sure to ad [] to produce 2D array\n",
        "svc_clf.predict([some_digit])"
      ],
      "execution_count": null,
      "outputs": [
        {
          "output_type": "execute_result",
          "data": {
            "text/plain": [
              "array([5], dtype=uint8)"
            ]
          },
          "metadata": {
            "tags": []
          },
          "execution_count": 35
        }
      ]
    },
    {
      "cell_type": "code",
      "metadata": {
        "colab": {
          "base_uri": "https://localhost:8080/"
        },
        "id": "RuXHcK-v3DTP",
        "outputId": "33f2e013-a2f1-4dc7-df78-afea28a8303b"
      },
      "source": [
        "#svm run with OvO strategy\n",
        "some_digit_scores = svc_clf.decision_function([some_digit])\n",
        "#10 scores per instance, the highest score is the one corresponding to class 5\n",
        "some_digit_scores"
      ],
      "execution_count": null,
      "outputs": [
        {
          "output_type": "execute_result",
          "data": {
            "text/plain": [
              "array([[ 1.72501977,  2.72809088,  7.2510018 ,  8.3076379 , -0.31087254,\n",
              "         9.3132482 ,  1.70975103,  2.76765202,  6.23049537,  4.84771048]])"
            ]
          },
          "metadata": {
            "tags": []
          },
          "execution_count": 36
        }
      ]
    },
    {
      "cell_type": "code",
      "metadata": {
        "colab": {
          "base_uri": "https://localhost:8080/"
        },
        "id": "WC0uj3yzAhc_",
        "outputId": "3a5704f9-464c-4921-ed4e-78d4ffddd32a"
      },
      "source": [
        "np.argmax(some_digit_scores)"
      ],
      "execution_count": null,
      "outputs": [
        {
          "output_type": "execute_result",
          "data": {
            "text/plain": [
              "5"
            ]
          },
          "metadata": {
            "tags": []
          },
          "execution_count": 37
        }
      ]
    },
    {
      "cell_type": "code",
      "metadata": {
        "colab": {
          "base_uri": "https://localhost:8080/"
        },
        "id": "qdIVV66bAvte",
        "outputId": "9d3cd033-d017-4969-8e0a-f1b2263deb11"
      },
      "source": [
        "#when classifier is trained, it stores the list of the target claesses in its classes_ attribute, ordered by value\n",
        "svc_clf.classes_"
      ],
      "execution_count": null,
      "outputs": [
        {
          "output_type": "execute_result",
          "data": {
            "text/plain": [
              "array([0, 1, 2, 3, 4, 5, 6, 7, 8, 9], dtype=uint8)"
            ]
          },
          "metadata": {
            "tags": []
          },
          "execution_count": 38
        }
      ]
    },
    {
      "cell_type": "code",
      "metadata": {
        "id": "2YhNy6JwAzB2"
      },
      "source": [
        "#force sklearn to use OvR strategy\n",
        "from sklearn.multiclass import OneVsRestClassifier"
      ],
      "execution_count": null,
      "outputs": []
    },
    {
      "cell_type": "code",
      "metadata": {
        "id": "USLKP8uCBSQ5"
      },
      "source": [
        "ovr_clf = OneVsRestClassifier(SVC())"
      ],
      "execution_count": null,
      "outputs": []
    },
    {
      "cell_type": "code",
      "metadata": {
        "id": "EDDkxJNeBWBK"
      },
      "source": [
        "ovr_clf.fit(X_train, y_train)\n",
        "ovr_clf.predict([some_digit])"
      ],
      "execution_count": null,
      "outputs": []
    },
    {
      "cell_type": "code",
      "metadata": {
        "id": "cfPZZZzqBiu2"
      },
      "source": [
        "#get the estimator\n",
        "len(over_clf.estimators_)"
      ],
      "execution_count": null,
      "outputs": []
    },
    {
      "cell_type": "markdown",
      "metadata": {
        "id": "ECSm3AWfG7tM"
      },
      "source": [
        "2.2 SGD classifier"
      ]
    },
    {
      "cell_type": "code",
      "metadata": {
        "id": "l9oSVb9qBwS9"
      },
      "source": [
        "#training and sgd classifier\n",
        "sgd_clf.fit(X_train,y_train)\n",
        "sgd_clf.predict([some_digit])"
      ],
      "execution_count": null,
      "outputs": []
    },
    {
      "cell_type": "code",
      "metadata": {
        "id": "PDcxfoVBFDqj"
      },
      "source": [
        "#check the score sgd assigned to each class\n",
        "sgd_clf.decision_function([some_digit])"
      ],
      "execution_count": null,
      "outputs": []
    },
    {
      "cell_type": "code",
      "metadata": {
        "id": "7BuYzogAFXls"
      },
      "source": [
        "#evaluate the SGD classifier accuracy\n",
        "cross_val_score(sgd_clf, X_train, y_train, cv=3, scoring=\"accuracy\")"
      ],
      "execution_count": null,
      "outputs": []
    },
    {
      "cell_type": "code",
      "metadata": {
        "id": "ICyG3suGFwzS"
      },
      "source": [
        "#scaling the inputs\n",
        "from sklearn.preprocessing import StandardScaler\n",
        "scaler = StandardScaler()\n",
        "X_train_scaled = scaler.fit_transform(X_train.astype(np.float64))\n",
        "cross_val_score(sgd_clf, X_train_scaled, y_train, cv=3,scoring=\"accuracy\")"
      ],
      "execution_count": null,
      "outputs": []
    },
    {
      "cell_type": "markdown",
      "metadata": {
        "id": "swrTCvl8G_sY"
      },
      "source": [
        "3. Error Analysis"
      ]
    },
    {
      "cell_type": "code",
      "metadata": {
        "id": "nLWcErAAG_Z2"
      },
      "source": [
        "y_train_pred = cross_val_predict(sgd_clf, X_train_scaled, y_train,cv=3)"
      ],
      "execution_count": null,
      "outputs": []
    },
    {
      "cell_type": "code",
      "metadata": {
        "id": "8tF4w4KkHTn7"
      },
      "source": [
        "#get the confusion matrix\n",
        "conf_mx = confusion_matrix(y_train, y_train_pred)"
      ],
      "execution_count": null,
      "outputs": []
    },
    {
      "cell_type": "code",
      "metadata": {
        "id": "mqxFJbSnHeSo"
      },
      "source": [
        "conf_mx"
      ],
      "execution_count": null,
      "outputs": []
    },
    {
      "cell_type": "code",
      "metadata": {
        "id": "1V_Ek1GwHi--"
      },
      "source": [
        "#check the image of the matrix\n",
        "# since sklearn 0.22, you can use sklearn.metrics.plot_confusion_matrix()\n",
        "plt.matshow(conf_mx, cmap = plt.cm.gray)\n",
        "plt.show()"
      ],
      "execution_count": null,
      "outputs": []
    },
    {
      "cell_type": "code",
      "metadata": {
        "id": "EOrNxP-dMscM"
      },
      "source": [
        "# EXTRA\n",
        "def plot_digits(instances, images_per_row=10, **options):\n",
        "    size = 28\n",
        "    images_per_row = min(len(instances), images_per_row)\n",
        "    images = [instance.reshape(size,size) for instance in instances]\n",
        "    n_rows = (len(instances) - 1) // images_per_row + 1\n",
        "    row_images = []\n",
        "    n_empty = n_rows * images_per_row - len(instances)\n",
        "    images.append(np.zeros((size, size * n_empty)))\n",
        "    for row in range(n_rows):\n",
        "        rimages = images[row * images_per_row : (row + 1) * images_per_row]\n",
        "        row_images.append(np.concatenate(rimages, axis=1))\n",
        "    image = np.concatenate(row_images, axis=0)\n",
        "    plt.imshow(image, cmap = mpl.cm.binary, **options)\n",
        "    plt.axis(\"off\")"
      ],
      "execution_count": null,
      "outputs": []
    },
    {
      "cell_type": "code",
      "metadata": {
        "id": "da-wwIHpMXf8"
      },
      "source": [
        " cl_a, cl_b = 3, 5\n",
        "  X_aa = X_train[(y_train == cl_a) & (y_train_pred == cl_a)]\n",
        "  X_ab = X_train[(y_train == cl_a) & (y_train_pred == cl_b)]\n",
        "  X_ba = X_train[(y_train == cl_b) & (y_train_pred == cl_a)]\n",
        "  X_bb = X_train[(y_train == cl_b) & (y_train_pred == cl_b)]\n",
        "  plt.figure(figsize=(8,8))\n",
        "  plt.subplot(221); plot_digits(X_aa[:25], images_per_row=5)\n",
        "  plt.subplot(222); plot_digits(X_ab[:25], images_per_row=5)\n",
        "  plt.subplot(223); plot_digits(X_ba[:25], images_per_row=5)\n",
        "  plt.subplot(224); plot_digits(X_bb[:25], images_per_row=5)\n",
        "  plt.show()"
      ],
      "execution_count": null,
      "outputs": []
    },
    {
      "cell_type": "markdown",
      "metadata": {
        "id": "kvZ595OINGXe"
      },
      "source": [
        "4. Multilabel Classification"
      ]
    },
    {
      "cell_type": "code",
      "metadata": {
        "id": "VmcejkHZNLOR"
      },
      "source": [
        "from sklearn.neighbors import KNeighborsClassifier\n",
        "#create one label indicate wheather the digit is more than 7\n",
        "y_train_large = (y_train >= 7)\n",
        "#create a 2nd label indicate wheather the digit is odd\n",
        "y_train_odd = (y_train % 2 == 1)\n",
        "#concatenate two labels\n",
        "y_multilabel = np.c_[y_train_large, y_train_odd]\n",
        "\n",
        "#train the classifier\n",
        "knn_clf = KNeighborsClassifier()\n",
        "knn_clf.fit(X_train, y_multilabel)"
      ],
      "execution_count": null,
      "outputs": []
    },
    {
      "cell_type": "code",
      "metadata": {
        "id": "pdZ2ZbP-OO0s"
      },
      "source": [
        "#make prediction\n",
        "knn_clf.predict([some_digit])"
      ],
      "execution_count": null,
      "outputs": []
    },
    {
      "cell_type": "markdown",
      "metadata": {
        "id": "Ttwn0N2pOddC"
      },
      "source": [
        "4.1 Evaluate the results"
      ]
    },
    {
      "cell_type": "code",
      "metadata": {
        "id": "atdqu_aaOkvn"
      },
      "source": [
        "y_train_knn_pred = cross_val_predict(knn_clf, X_train,y_multilabel, cv=3)\n",
        "\n",
        "#get the average F1 scores of two labels\n",
        "f1_score(y_multilabel, y_train_knn_pred, average = \"macro\")\n",
        "#to give more weights to labels with more samples, change \"macro\" to 'weighted'"
      ],
      "execution_count": null,
      "outputs": []
    },
    {
      "cell_type": "markdown",
      "metadata": {
        "id": "pfbmk9haPnRj"
      },
      "source": [
        "5. Multioutput Classification"
      ]
    },
    {
      "cell_type": "code",
      "metadata": {
        "id": "TiItT5-nPrMT"
      },
      "source": [
        "#create random noise\n",
        "noise = np.random.randint(0, 100, (len(X_train), 784))\n",
        "#add noise to train set\n",
        "X_train_mod = X_train + noise\n",
        "#add noise to test set\n",
        "noise = np.random.randint(0, 100, (len(X_test), 784))\n",
        "X_test_mod = X_test + noise\n",
        "#output clean image so the target is the original image\n",
        "y_train_mod = X_train\n",
        "y_test_mod = X_test"
      ],
      "execution_count": null,
      "outputs": []
    },
    {
      "cell_type": "code",
      "metadata": {
        "id": "cJY_PQfRQWL7"
      },
      "source": [
        "\"\"\"Notice that the classifier’s output is multilabel (one label per pixel) and \n",
        "   each label can have multiple values (pixel intensity ranges from 0 to 255). \n",
        "   It is thus an example of a multioutput classification system.\"\"\"\n",
        "knn_clf.fit(X_train_mod, y_train_mod)\n",
        "clean_digit = knn_clf.predict([X_test_mod[some_index]])\n",
        "plot_digit(clean_digit)"
      ],
      "execution_count": null,
      "outputs": []
    },
    {
      "cell_type": "markdown",
      "metadata": {
        "id": "Ev87DxcyQW5G"
      },
      "source": [
        "5. Exercise"
      ]
    },
    {
      "cell_type": "code",
      "metadata": {
        "id": "9fnEnhQEQYqw"
      },
      "source": [
        ""
      ],
      "execution_count": null,
      "outputs": []
    }
  ]
}